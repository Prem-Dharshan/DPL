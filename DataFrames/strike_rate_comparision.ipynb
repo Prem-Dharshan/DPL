{
 "cells": [
  {
   "cell_type": "markdown",
   "metadata": {},
   "source": [
    "### Strike Rate Comparision and Analysis"
   ]
  },
  {
   "cell_type": "markdown",
   "metadata": {},
   "source": [
    "#### Import Modules"
   ]
  },
  {
   "cell_type": "code",
   "execution_count": null,
   "metadata": {},
   "outputs": [],
   "source": [
    "import pandas as pd \n",
    "import import_ipynb \n",
    "from IPython.display import display\n",
    "import seaborn as sns\n",
    "import matplotlib.pyplot as plt"
   ]
  },
  {
   "cell_type": "markdown",
   "metadata": {},
   "source": [
    "#### Import Cleaned Data"
   ]
  },
  {
   "cell_type": "code",
   "execution_count": null,
   "metadata": {},
   "outputs": [],
   "source": [
    "%run cleaning.ipynb\n",
    "Teams, Skipped = parse()"
   ]
  },
  {
   "cell_type": "markdown",
   "metadata": {},
   "source": [
    "#### Create a Local dataframe "
   ]
  },
  {
   "cell_type": "code",
   "execution_count": null,
   "metadata": {},
   "outputs": [],
   "source": [
    "strike_rate_df = pd.DataFrame(columns=['player', 'strike_rate_cumm', 'runs', 'strike_rate', 'innings'])\n",
    "\n",
    "for t, team in Teams.items():\n",
    "\n",
    "    for b, batsman in team.get(\"Batsman\").items():\n",
    "\n",
    "        df = pd.DataFrame({\n",
    "            \"player\": b,\n",
    "            \"strike_rate_cumm\": batsman.get(\"S/RC\"),\n",
    "            \"runs\": batsman.get(\"Runs\"),\n",
    "            \"strike_rate\": batsman.get(\"S/R\"),\n",
    "            \"innings\": batsman.get(\"M/Inns\")\n",
    "        })\n",
    "\n",
    "        # print(df)\n",
    "\n",
    "        strike_rate_df = pd.concat([strike_rate_df, df])\n",
    "\n",
    "    for a, all_rounder in team.get(\"Allrounder\").items():\n",
    "\n",
    "        df = pd.DataFrame({\n",
    "            \"player\": a,\n",
    "            \"strike_rate_cumm\": all_rounder.get(\"Bat\")[\"S/RC\"],\n",
    "            \"runs\": all_rounder.get(\"Bat\")[\"Runs\"],\n",
    "            \"strike_rate\": all_rounder.get(\"Bat\")[\"S/R\"],\n",
    "            \"innings\": batsman.get(\"M/Inns\")\n",
    "        })\n",
    "\n",
    "        strike_rate_df = pd.concat([strike_rate_df, df])\n",
    "\n"
   ]
  }
 ],
 "metadata": {
  "kernelspec": {
   "display_name": "venv",
   "language": "python",
   "name": "python3"
  },
  "language_info": {
   "codemirror_mode": {
    "name": "ipython",
    "version": 3
   },
   "file_extension": ".py",
   "mimetype": "text/x-python",
   "name": "python",
   "nbconvert_exporter": "python",
   "pygments_lexer": "ipython3",
   "version": "3.12.1"
  }
 },
 "nbformat": 4,
 "nbformat_minor": 2
}
