{
 "cells": [
  {
   "cell_type": "markdown",
   "metadata": {},
   "source": [
    "### Innings Distribution Analysis"
   ]
  },
  {
   "cell_type": "markdown",
   "metadata": {},
   "source": [
    "#### Import Modules"
   ]
  },
  {
   "cell_type": "code",
   "execution_count": null,
   "metadata": {},
   "outputs": [],
   "source": [
    "import pandas as pd \n",
    "import import_ipynb \n",
    "from IPython.display import display\n",
    "import seaborn as sns\n",
    "import matplotlib.pyplot as plt"
   ]
  },
  {
   "cell_type": "markdown",
   "metadata": {},
   "source": [
    "#### Import Cleaned Data"
   ]
  },
  {
   "cell_type": "code",
   "execution_count": null,
   "metadata": {},
   "outputs": [],
   "source": [
    "%run cleaning.ipynb\n",
    "Teams, Skipped = parse()"
   ]
  },
  {
   "cell_type": "markdown",
   "metadata": {},
   "source": [
    "#### Innings & Position distribution Plots"
   ]
  },
  {
   "cell_type": "code",
   "execution_count": null,
   "metadata": {},
   "outputs": [],
   "source": [
    "player = input(\"Enter a player name: \")\n",
    "\n",
    "df = pd.read_excel(r'Z:\\DPL\\Dataset\\DATA PREMIER LEAGUE\\Players List.xlsx')\n",
    "\n",
    "spec_player = df['Player'].isin([player])\n",
    "spec_player = df[spec_player]\n",
    "player_team = spec_player['Team'][0]\n",
    "player_role = spec_player['Role'][0]\n",
    "\n",
    "player_df = Teams.get(player_team).get(player_role).get(player)\n",
    "\n",
    "f_i_count = player_df.groupby(by=['M/Inns']).count().reset_index().iloc[0]\n",
    "s_i_count = player_df.groupby(by=['M/Inns']).count().reset_index().iloc[1]\n",
    "\n",
    "# display(f_i_count['Innings'], s_i_count['Innings'])\n",
    "\n",
    "sns.set(style = 'whitegrid') \n",
    "sns.countplot(player_df['M/Inns']) \n",
    "\n",
    "sns.countplot(player_df['Posn'])"
   ]
  }
 ],
 "metadata": {
  "kernelspec": {
   "display_name": "venv",
   "language": "python",
   "name": "python3"
  },
  "language_info": {
   "codemirror_mode": {
    "name": "ipython",
    "version": 3
   },
   "file_extension": ".py",
   "mimetype": "text/x-python",
   "name": "python",
   "nbconvert_exporter": "python",
   "pygments_lexer": "ipython3",
   "version": "3.12.1"
  }
 },
 "nbformat": 4,
 "nbformat_minor": 2
}
