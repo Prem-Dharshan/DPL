{
 "cells": [
  {
   "cell_type": "code",
   "execution_count": 104,
   "metadata": {},
   "outputs": [],
   "source": [
    "import pandas as pd\n",
    "import numpy as np\n",
    "from datetime import datetime"
   ]
  },
  {
   "cell_type": "code",
   "execution_count": 105,
   "metadata": {},
   "outputs": [],
   "source": [
    "# df = pd.read_excel(r'Z:\\DPL\\Dataset\\DATA PREMIER LEAGUE\\CSK\\BATSMEN\\CSK_BATSMEN.xlsx', sheet_name='MS Dhoni')\n",
    "\n",
    "\n",
    "# df.drop('Unnamed: 11', axis=1,inplace=True)\n",
    "# df.isnull().sum()\n",
    "\n",
    "\n",
    "# def parse():\n",
    "#     return 'Ok'\n",
    "\n"
   ]
  },
  {
   "cell_type": "code",
   "execution_count": 106,
   "metadata": {},
   "outputs": [],
   "source": [
    "\n",
    "# def clean():\n",
    "\n",
    "#     for x in df.index:\n",
    "        \n",
    "#         # df.loc[x,'Date'] = datetime.strptime(df.loc[x,'Date'] ,r'%d/%m/%y')\n",
    "#         if df.loc[x, \"M/Inns\"] =='1st':\n",
    "#             df.loc[x, \"M/Inns\"] = 1\n",
    "#         elif df.loc[x,'M/Inns'] == '2nd':\n",
    "#             df.loc[x, \"M/Inns\"] = 2\n",
    "#         elif df.loc[x, 'Posn'] == '-':\n",
    "#             df.drop(x, inplace=True)\n",
    "\n"
   ]
  },
  {
   "cell_type": "code",
   "execution_count": 107,
   "metadata": {},
   "outputs": [],
   "source": [
    "\n",
    "\n",
    "teams = dict()\n",
    "skipped = []\n",
    "teams_df = pd.read_excel(r'Z:\\DPL\\Dataset\\DATA PREMIER LEAGUE\\Players List.xlsx')\n",
    "team_list = list(set(teams_df.Team))\n",
    "for i in team_list:\n",
    "    teams[i] = {'Batsman' : dict() , 'Bowler' : dict(), 'Allrounder' : dict()}\n",
    "\n",
    "for x in teams_df.index:\n",
    "    dirname = r'Z:\\DPL\\Dataset\\DATA PREMIER LEAGUE' + '\\\\' + teams_df.loc[x,'Team'] + '\\\\'\n",
    "    r = ''\n",
    "    match teams_df.loc[x,'Role'] :\n",
    "        case 'Batsman':\n",
    "            dirname+= 'BATSMEN'\n",
    "            r = 'BATSMEN'\n",
    "        case 'Allrounder':\n",
    "            dirname += 'ALLROUNDERS'\n",
    "            r = 'ALLROUNDERS'\n",
    "        case 'Bowler':\n",
    "            dirname+= 'BOWLERS'\n",
    "            r = 'BOWLERS'\n",
    "\n",
    "    dirname+='\\\\'\n",
    "    dirname +=  teams_df.loc[x,'Team'] + '_' + r + '.xlsx'\n",
    "    if r=='ALLROUNDERS':\n",
    "        sheetname1 = teams_df.loc[x,'Player']\n",
    "        # print(sheetname1)\n",
    "        try:\n",
    "            teams[teams_df.loc[x,'Team']][teams_df.loc[x,'Role']][teams_df.loc[x,'Player'] ] = \\\n",
    "                        {\n",
    "                            'Bat' : pd.read_excel(dirname, sheet_name = teams_df.loc[x,'Player'] + ' a') , \\\n",
    "                            'Bowl' : pd.read_excel(dirname, sheet_name = teams_df.loc[x,'Player'] + ' b')\n",
    "                        }\n",
    "        except ValueError:\n",
    "            skipped.append( teams_df.loc[x,'Player'])\n",
    "\n",
    "    else:\n",
    "        sheetname = teams_df.loc[x,'Player'] \n",
    "        # print(sheetname)\n",
    "        try:\n",
    "            teams[teams_df.loc[x,'Team']][teams_df.loc[x,'Role']][teams_df.loc[x,'Player'] ] = pd.read_excel(dirname, sheet_name = sheetname)\n",
    "        except ValueError:\n",
    "            skipped.append( teams_df.loc[x,'Player'])\n",
    "\n",
    "# return (teams, skipped)\n",
    "    # print(teams)\n",
    "    # if (teams_df.loc[x,'Team'] == 'CSK' and teams_df.loc[x,'Role'] == 'Batsman'):\n",
    "    #     print(teams_df.loc[x,'Player'])\n",
    "\n",
    "def parse():\n",
    "    return teams, skipped"
   ]
  }
 ],
 "metadata": {
  "kernelspec": {
   "display_name": "venv",
   "language": "python",
   "name": "python3"
  },
  "language_info": {
   "codemirror_mode": {
    "name": "ipython",
    "version": 3
   },
   "file_extension": ".py",
   "mimetype": "text/x-python",
   "name": "python",
   "nbconvert_exporter": "python",
   "pygments_lexer": "ipython3",
   "version": "3.12.1"
  }
 },
 "nbformat": 4,
 "nbformat_minor": 2
}
