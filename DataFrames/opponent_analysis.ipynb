{
 "cells": [
  {
   "cell_type": "markdown",
   "metadata": {},
   "source": [
    "### Versus Opponent Analysis"
   ]
  },
  {
   "cell_type": "code",
   "execution_count": 1,
   "metadata": {},
   "outputs": [],
   "source": [
    "import pandas as pd\n",
    "import numpy as np\n",
    "from IPython.display import display"
   ]
  },
  {
   "cell_type": "code",
   "execution_count": 2,
   "metadata": {},
   "outputs": [],
   "source": [
    "%run cleaning.ipynb\n",
    "Teams, Skipped = parse()"
   ]
  },
  {
   "cell_type": "code",
   "execution_count": 3,
   "metadata": {},
   "outputs": [
    {
     "name": "stdout",
     "output_type": "stream",
     "text": [
      "The below table lists the challenging player of every player.\n",
      "player_name       opponent_player_name  team_name  opponent_team_name         \n",
      "Abhishek Sharma   b A R Patel           SRH        Delhi Capitals                 1\n",
      "Aiden Markram     S N Thakur            SRH        Chennai Super Kings            1\n",
      "Ajinkya Rahane    S B Bangar            CSK        Deccan Chargers                1\n",
      "Andre Russell     S R Watson            KKR        Rajasthan Royals               1\n",
      "Anmolpreet Singh  N A Saini             SRH        Rajasthan Royals               1\n",
      "                                                                                 ..\n",
      "Virat Kohli       A B Dinda             RCB        Kolkata Knight Riders          1\n",
      "Vishnu Vinod      P J Cummins           MI         Delhi Capitals                 1\n",
      "Yash Dhull        b Mohammed Siraj      DC         Royal Challengers Bangalore    1\n",
      "Yashasvi Jaiswal  T A Boult             RR         Mumbai Indians                 1\n",
      "Yudhvir Singh     S M Curran            LSG        Punjab Kings                   1\n",
      "Name: count, Length: 77, dtype: int64\n"
     ]
    }
   ],
   "source": [
    "\n",
    "opponent = pd.DataFrame(columns=['player_name', 'team_name', 'opponent_team_name', 'opponent_player_name'])\n",
    "\n",
    "for t, team in Teams.items():\n",
    "\n",
    "    for b, batsman in team.get(\"Batsman\").items():\n",
    "\n",
    "        batsman = batsman.sort_values(by=['Avg', 'S/R', 'S/RC']).iloc[0]\n",
    "        opp_player = batsman['dismissed_by']\n",
    "        opp_team = batsman['Versus']\n",
    "        \n",
    "        df = pd.DataFrame({\n",
    "            'player_name': b,\n",
    "            \"team_name\": t,\n",
    "            \"opponent_team_name\": [opp_team],\n",
    "            'opponent_player_name': [opp_player]}\n",
    "        )\n",
    "        opponent = pd.concat([opponent, df])\n",
    "\n",
    "    for a, all_rounder in team.get(\"Allrounder\").items():\n",
    "\n",
    "        all_rounder = all_rounder['Bat'].sort_values(by=['Avg', 'S/R', 'S/RC']).iloc[0]\n",
    "        opp_player = all_rounder['dismissed_by']\n",
    "        opp_team = all_rounder['Versus']        \n",
    "        \n",
    "        df = pd.DataFrame({\n",
    "            'player_name': a,\n",
    "            \"team_name\": t,\n",
    "            \"opponent_team_name\": [opp_team],\n",
    "            'opponent_player_name': [opp_player]}\n",
    "        )\n",
    "        opponent = pd.concat([opponent, df])\n",
    "\n",
    "most_challenging = opponent.groupby(['player_name', 'opponent_player_name']).value_counts()\n",
    "print(\"The below table lists the challenging player of every player.\")\n",
    "print(most_challenging)"
   ]
  }
 ],
 "metadata": {
  "kernelspec": {
   "display_name": "venv",
   "language": "python",
   "name": "python3"
  },
  "language_info": {
   "codemirror_mode": {
    "name": "ipython",
    "version": 3
   },
   "file_extension": ".py",
   "mimetype": "text/x-python",
   "name": "python",
   "nbconvert_exporter": "python",
   "pygments_lexer": "ipython3",
   "version": "3.12.1"
  }
 },
 "nbformat": 4,
 "nbformat_minor": 2
}
