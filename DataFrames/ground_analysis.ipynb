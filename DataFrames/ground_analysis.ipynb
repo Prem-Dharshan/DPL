{
 "cells": [
  {
   "cell_type": "markdown",
   "metadata": {},
   "source": [
    "### Ground Impact Analysis"
   ]
  },
  {
   "cell_type": "code",
   "execution_count": 1,
   "metadata": {},
   "outputs": [],
   "source": [
    "import pandas as pd \n",
    "import import_ipynb \n",
    "from IPython.display import display"
   ]
  },
  {
   "cell_type": "code",
   "execution_count": 2,
   "metadata": {},
   "outputs": [],
   "source": [
    "%run cleaning.ipynb\n",
    "Teams, Skipped = parse()"
   ]
  },
  {
   "cell_type": "code",
   "execution_count": 3,
   "metadata": {},
   "outputs": [
    {
     "name": "stdout",
     "output_type": "stream",
     "text": [
      "Top 5 best batting pitches:\n"
     ]
    },
    {
     "data": {
      "text/plain": [
       "20               BRSABV Ekana Cricket Stadium\n",
       "12                           Wankhede Stadium\n",
       "62    Maharashtra Cricket Association Stadium\n",
       "70    Maharashtra Cricket Association Stadium\n",
       "76         Rajiv Gandhi International Stadium\n",
       "Name: ground, dtype: object"
      ]
     },
     "metadata": {},
     "output_type": "display_data"
    },
    {
     "name": "stdout",
     "output_type": "stream",
     "text": [
      "Worst 5 best batting pitches:\n"
     ]
    },
    {
     "data": {
      "text/plain": [
       "31                        Wankhede Stadium\n",
       "108     Rajiv Gandhi International Stadium\n",
       "34                    Arun Jaitley Stadium\n",
       "89                   Narendra Modi Stadium\n",
       "68     Dubai International Cricket Stadium\n",
       "Name: ground, dtype: object"
      ]
     },
     "metadata": {},
     "output_type": "display_data"
    }
   ],
   "source": [
    "\n",
    "ground_df = pd.DataFrame(columns=['player', 'ground', 'runs', 'strike_rate'])\n",
    "\n",
    "for t, team in Teams.items():\n",
    "\n",
    "    for b, batsman in team.get(\"Batsman\").items():\n",
    "\n",
    "        df = pd.DataFrame({\n",
    "            \"player\": b,\n",
    "            \"ground\": batsman.get(\"Ground\"),\n",
    "            \"runs\": batsman.get(\"Runs\"),\n",
    "            \"strike_rate\": batsman.get(\"S/R\")\n",
    "        })\n",
    "\n",
    "        ground_df = pd.concat([ground_df, df])\n",
    "\n",
    "    for a, all_rounder in team.get(\"Allrounder\").items():\n",
    "\n",
    "        df = pd.DataFrame({\n",
    "            \"player\": a,\n",
    "            \"ground\": all_rounder.get(\"Bat\")[\"Ground\"],\n",
    "            \"runs\": all_rounder.get(\"Bat\")[\"Runs\"],\n",
    "            \"strike_rate\": all_rounder.get(\"Bat\")[\"S/R\"]\n",
    "        })\n",
    "\n",
    "        ground_df = pd.concat([ground_df, df])\n",
    "\n",
    "print(f\"Top 5 best batting pitches:\")\n",
    "display(ground_df.sort_values(['runs', 'strike_rate'])[:5][\"ground\"])\n",
    "print(f\"Worst 5 best batting pitches:\")\n",
    "display(ground_df.sort_values(['runs', 'strike_rate'])[-5:][\"ground\"])"
   ]
  }
 ],
 "metadata": {
  "kernelspec": {
   "display_name": "venv",
   "language": "python",
   "name": "python3"
  },
  "language_info": {
   "codemirror_mode": {
    "name": "ipython",
    "version": 3
   },
   "file_extension": ".py",
   "mimetype": "text/x-python",
   "name": "python",
   "nbconvert_exporter": "python",
   "pygments_lexer": "ipython3",
   "version": "3.12.1"
  }
 },
 "nbformat": 4,
 "nbformat_minor": 2
}
